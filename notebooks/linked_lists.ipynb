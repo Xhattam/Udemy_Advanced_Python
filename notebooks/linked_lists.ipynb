{
 "cells": [
  {
   "cell_type": "markdown",
   "metadata": {},
   "source": [
    "# Singly-linked list"
   ]
  },
  {
   "cell_type": "markdown",
   "metadata": {},
   "source": [
    "### Advantages\n",
    "- Dymanic data structure where insertion/deletions are simple\n",
    "- Can be used to easily implement stack/queue data structure\n",
    "\n",
    "### Disadvantages\n",
    "- Search : all the list has to be traversed to find one element\n",
    "- Memory: pointer take an aditional space"
   ]
  },
  {
   "cell_type": "code",
   "execution_count": 1,
   "metadata": {},
   "outputs": [],
   "source": [
    "class Node:\n",
    "    \n",
    "    def __init__(self, data=None):\n",
    "        self.data = data\n",
    "        self.next = None"
   ]
  },
  {
   "cell_type": "code",
   "execution_count": 52,
   "metadata": {},
   "outputs": [],
   "source": [
    "class LinkedList:\n",
    "    \n",
    "    def __init__(self):\n",
    "        self.head_value = None\n",
    "        self.tail = None\n",
    "    \n",
    "    def printing(self, stop_value=None):\n",
    "        \"\"\" Shows content of LinkedList \"\"\"\n",
    "        print_value = self.head_value\n",
    "        while print_value:\n",
    "            if stop_value:\n",
    "                if print_value.data == stop_value:\n",
    "                    print(print_value.data)\n",
    "            else:\n",
    "                print(print_value.data)\n",
    "            print_value = print_value.next\n",
    "    \n",
    "    def add_at_beginning(self, element):\n",
    "        \"\"\" Add element at beginning \"\"\"\n",
    "        element = Node(element)\n",
    "        second = self.head_value\n",
    "        self.head_value = element\n",
    "        element.next = second\n",
    "        \n",
    "    def add_at_end(self, element):\n",
    "        \"\"\" Add element at the end \"\"\"\n",
    "        value = self.head_value\n",
    "        while value:\n",
    "            if not value.next:\n",
    "                value.next = Node(element)\n",
    "                break\n",
    "            value = value.next"
   ]
  },
  {
   "cell_type": "code",
   "execution_count": 53,
   "metadata": {},
   "outputs": [],
   "source": [
    "x = LinkedList()\n",
    "x.head_value = Node(\"Jessica\")\n",
    "data2 = Node(\"Tony\")\n",
    "data3 = Node(\"Marnie\")\n",
    "\n",
    "x.head_value.next = data2\n",
    "data2.next = data3"
   ]
  },
  {
   "cell_type": "markdown",
   "metadata": {},
   "source": [
    "### Traverse through singly-linked list"
   ]
  },
  {
   "cell_type": "code",
   "execution_count": 54,
   "metadata": {},
   "outputs": [
    {
     "name": "stdout",
     "output_type": "stream",
     "text": [
      "Jessica\n",
      "Tony\n",
      "Marnie\n"
     ]
    }
   ],
   "source": [
    "x.printing()"
   ]
  },
  {
   "cell_type": "code",
   "execution_count": 55,
   "metadata": {},
   "outputs": [],
   "source": [
    "x.add_at_beginning(\"Udemy\")"
   ]
  },
  {
   "cell_type": "code",
   "execution_count": 56,
   "metadata": {},
   "outputs": [
    {
     "data": {
      "text/plain": [
       "'Udemy'"
      ]
     },
     "execution_count": 56,
     "metadata": {},
     "output_type": "execute_result"
    }
   ],
   "source": [
    "x.head_value.data"
   ]
  },
  {
   "cell_type": "code",
   "execution_count": 57,
   "metadata": {},
   "outputs": [],
   "source": [
    "x.add_at_end(\"Pioupiou\")"
   ]
  },
  {
   "cell_type": "code",
   "execution_count": 58,
   "metadata": {},
   "outputs": [
    {
     "name": "stdout",
     "output_type": "stream",
     "text": [
      "Udemy\n",
      "Jessica\n",
      "Tony\n",
      "Marnie\n",
      "Pioupiou\n"
     ]
    }
   ],
   "source": [
    "x.printing()"
   ]
  },
  {
   "cell_type": "code",
   "execution_count": 59,
   "metadata": {},
   "outputs": [
    {
     "name": "stdout",
     "output_type": "stream",
     "text": [
      "Beginning\n",
      "Udemy\n",
      "Jessica\n",
      "Tony\n",
      "Marnie\n",
      "Pioupiou\n",
      "End\n"
     ]
    }
   ],
   "source": [
    "x.add_at_beginning(\"Beginning\")\n",
    "x.add_at_end(\"End\")\n",
    "x.printing()"
   ]
  },
  {
   "cell_type": "code",
   "execution_count": null,
   "metadata": {},
   "outputs": [],
   "source": []
  },
  {
   "cell_type": "code",
   "execution_count": null,
   "metadata": {},
   "outputs": [],
   "source": []
  },
  {
   "cell_type": "markdown",
   "metadata": {},
   "source": [
    "# Doubly-linked list"
   ]
  },
  {
   "cell_type": "markdown",
   "metadata": {},
   "source": [
    "### Advantages\n",
    "- Traverse in both forward/backward direction\n",
    "- Insertion/deletion simpler than singly-linked lists\n",
    "\n",
    "### Disavantages\n",
    "- More memory needed, because each data element has 2 address pointers "
   ]
  },
  {
   "cell_type": "code",
   "execution_count": null,
   "metadata": {},
   "outputs": [],
   "source": []
  }
 ],
 "metadata": {
  "kernelspec": {
   "display_name": "Python 3",
   "language": "python",
   "name": "python3"
  },
  "language_info": {
   "codemirror_mode": {
    "name": "ipython",
    "version": 3
   },
   "file_extension": ".py",
   "mimetype": "text/x-python",
   "name": "python",
   "nbconvert_exporter": "python",
   "pygments_lexer": "ipython3",
   "version": "3.6.7"
  }
 },
 "nbformat": 4,
 "nbformat_minor": 2
}
