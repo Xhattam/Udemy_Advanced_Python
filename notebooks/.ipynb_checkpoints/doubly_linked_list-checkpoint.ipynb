{
 "cells": [
  {
   "cell_type": "code",
   "execution_count": 1,
   "metadata": {},
   "outputs": [],
   "source": [
    "class Node:\n",
    "    def __init__(self, data):\n",
    "        self.data = data\n",
    "        self.next = None\n",
    "        self.prev = None"
   ]
  },
  {
   "cell_type": "code",
   "execution_count": 7,
   "metadata": {},
   "outputs": [],
   "source": [
    "class DoublyLinkedList:\n",
    "    def __init__(self):\n",
    "        self.head = None\n",
    "\n",
    "    # Adding data elements at the beginning\n",
    "    def push(self, value):\n",
    "        new_node = Node(value)\n",
    "        new_node.next = self.head\n",
    "        if self.head is not None:\n",
    "            self.head.prev = new_node\n",
    "        self.head = new_node\n",
    "\n",
    "    # Prints the Doubly Linked list\n",
    "    def printing(self, node):\n",
    "        while node:\n",
    "            print(node.data),\n",
    "            last = node\n",
    "            node = node.next\n",
    "                \n",
    "    def insert(self, prev_node, value):\n",
    "        if prev_node is None:\n",
    "            return\n",
    "        node = Node(value)\n",
    "        node.next = prev_node.next\n",
    "        prev_node.next = node\n",
    "        node.prev = prev_node\n",
    "        if node.next is not None:\n",
    "            node.next.prev = node\n",
    "            \n",
    "    # Adding element at the end\n",
    "    def append(self, value):\n",
    "        node = Node(value)\n",
    "        node.next = None\n",
    "        if not self.head:  # if list is empty\n",
    "            node.prev = None\n",
    "            self.head = node\n",
    "            return\n",
    "        # iterating over list until we reach last element\n",
    "        last = self.head\n",
    "        while last.next:\n",
    "            last = last.next\n",
    "        last.next = node\n",
    "        node.prev = last\n",
    "        return\n",
    "    \n",
    "    def remove(self, data):\n",
    "        start = self.head\n",
    "        if start:\n",
    "            if start.data == data:\n",
    "                self.head = start.next\n",
    "                start = None\n",
    "                return\n",
    "        \n",
    "        while start:\n",
    "            if start.data == data:\n",
    "                break\n",
    "            prev = start\n",
    "            start = start.next\n",
    "        \n",
    "        if not start:\n",
    "            return\n",
    "        \n",
    "        prev.next = start.next\n",
    "        start = None\n",
    "            "
   ]
  },
  {
   "cell_type": "code",
   "execution_count": 17,
   "metadata": {},
   "outputs": [
    {
     "name": "stdout",
     "output_type": "stream",
     "text": [
      "62\n",
      "8\n",
      "12\n"
     ]
    }
   ],
   "source": [
    "dllist = DoublyLinkedList()\n",
    "dllist.push(12)\n",
    "dllist.push(8)\n",
    "dllist.push(62)\n",
    "dllist.printing(dllist.head)"
   ]
  },
  {
   "cell_type": "code",
   "execution_count": 18,
   "metadata": {},
   "outputs": [],
   "source": [
    "dllist.append(20)"
   ]
  },
  {
   "cell_type": "code",
   "execution_count": 19,
   "metadata": {},
   "outputs": [
    {
     "name": "stdout",
     "output_type": "stream",
     "text": [
      "62\n",
      "8\n",
      "12\n",
      "20\n"
     ]
    }
   ],
   "source": [
    "dllist.printing(dllist.head)"
   ]
  },
  {
   "cell_type": "code",
   "execution_count": 20,
   "metadata": {},
   "outputs": [],
   "source": [
    "dllist.remove(8)"
   ]
  },
  {
   "cell_type": "code",
   "execution_count": 21,
   "metadata": {},
   "outputs": [
    {
     "name": "stdout",
     "output_type": "stream",
     "text": [
      "62\n",
      "12\n",
      "20\n"
     ]
    }
   ],
   "source": [
    "dllist.printing(dllist.head)"
   ]
  },
  {
   "cell_type": "code",
   "execution_count": null,
   "metadata": {},
   "outputs": [],
   "source": []
  }
 ],
 "metadata": {
  "kernelspec": {
   "display_name": "Python 3",
   "language": "python",
   "name": "python3"
  },
  "language_info": {
   "codemirror_mode": {
    "name": "ipython",
    "version": 3
   },
   "file_extension": ".py",
   "mimetype": "text/x-python",
   "name": "python",
   "nbconvert_exporter": "python",
   "pygments_lexer": "ipython3",
   "version": "3.6.7"
  }
 },
 "nbformat": 4,
 "nbformat_minor": 2
}
