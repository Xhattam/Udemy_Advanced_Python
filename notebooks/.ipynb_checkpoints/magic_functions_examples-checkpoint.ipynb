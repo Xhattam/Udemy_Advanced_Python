{
 "cells": [
  {
   "cell_type": "markdown",
   "metadata": {},
   "source": [
    "# Magic methods : examples"
   ]
  },
  {
   "cell_type": "markdown",
   "metadata": {},
   "source": [
    "What's the real use of magic methods ?\n",
    "\n",
    "For example, you can't add dictionary keys together without defining a magic method to do so."
   ]
  },
  {
   "cell_type": "code",
   "execution_count": 2,
   "metadata": {},
   "outputs": [
    {
     "ename": "TypeError",
     "evalue": "unsupported operand type(s) for +: 'dict' and 'dict'",
     "output_type": "error",
     "traceback": [
      "\u001b[0;31m---------------------------------------------------------------------------\u001b[0m",
      "\u001b[0;31mTypeError\u001b[0m                                 Traceback (most recent call last)",
      "\u001b[0;32m<ipython-input-2-9d329bfc29a4>\u001b[0m in \u001b[0;36m<module>\u001b[0;34m\u001b[0m\n\u001b[1;32m      1\u001b[0m \u001b[0mdict1\u001b[0m \u001b[0;34m=\u001b[0m \u001b[0;34m{\u001b[0m\u001b[0;34m'name'\u001b[0m\u001b[0;34m:\u001b[0m \u001b[0;34m'jessica'\u001b[0m\u001b[0;34m}\u001b[0m\u001b[0;34m\u001b[0m\u001b[0;34m\u001b[0m\u001b[0m\n\u001b[1;32m      2\u001b[0m \u001b[0mdict2\u001b[0m \u001b[0;34m=\u001b[0m \u001b[0;34m{\u001b[0m\u001b[0;34m'lastname'\u001b[0m\u001b[0;34m:\u001b[0m \u001b[0;34m'tanon'\u001b[0m\u001b[0;34m}\u001b[0m\u001b[0;34m\u001b[0m\u001b[0;34m\u001b[0m\u001b[0m\n\u001b[0;32m----> 3\u001b[0;31m \u001b[0mprint\u001b[0m\u001b[0;34m(\u001b[0m\u001b[0mdict1\u001b[0m \u001b[0;34m+\u001b[0m \u001b[0mdict2\u001b[0m\u001b[0;34m)\u001b[0m\u001b[0;34m\u001b[0m\u001b[0;34m\u001b[0m\u001b[0m\n\u001b[0m",
      "\u001b[0;31mTypeError\u001b[0m: unsupported operand type(s) for +: 'dict' and 'dict'"
     ]
    }
   ],
   "source": [
    "dict1 = {'name': 'jessica'}\n",
    "dict2 = {'lastname': 'tanon'}\n",
    "print(dict1 + dict2)"
   ]
  },
  {
   "cell_type": "code",
   "execution_count": 14,
   "metadata": {},
   "outputs": [],
   "source": [
    "class dictionary(dict):\n",
    "    \n",
    "    # NOTE: don't really understand passing a type as class arg instead of an __init__\n",
    "    # search it \n",
    "    \n",
    "    def __add__(self, other):\n",
    "        self.update(other)\n",
    "        return dictionary(self)"
   ]
  },
  {
   "cell_type": "code",
   "execution_count": 13,
   "metadata": {},
   "outputs": [
    {
     "name": "stdout",
     "output_type": "stream",
     "text": [
      "{'name': 'jessica', 'lastname': 'tanon'}\n"
     ]
    }
   ],
   "source": [
    "dict1 = dictionary({'name': 'jessica'})\n",
    "dict2 = dictionary({'lastname': 'tanon'})\n",
    "print(dict1 + dict2)"
   ]
  },
  {
   "cell_type": "code",
   "execution_count": 18,
   "metadata": {},
   "outputs": [],
   "source": [
    "class LengthConversion:\n",
    "    \n",
    "    value = {\"mm\": 0.001, \"cm\": 0.01, \"m\":1, \"km\":1000, \"in\": 0.0254, \n",
    "             \"ft\": 0.3048, \"yd\": 0.9144, \"mi\":1609.344}\n",
    "    \n",
    "    def __init__(self, x, value_unit=\"m\"):\n",
    "        self.x = x\n",
    "        self.value_unit = value_unit\n",
    "    \n",
    "    def convert_to_metres(self):\n",
    "        return self.x * LengthConversion.value[self.value_unit]\n",
    "    \n",
    "    def __add__(self,other):\n",
    "        ans = self.convert_to_metres() + other.convert_to_metres()\n",
    "        return LengthConversion(ans/LengthConversion.value[self.value_unit], self.value_unit)\n",
    "    \n",
    "    def __str__(self):\n",
    "        return str(self.convert_to_metres)\n",
    "    \n",
    "    def __repr__(self):\n",
    "        return \"Length_Conversion(\" + str(self.x) + \", \" + self.value_unit + \")\""
   ]
  },
  {
   "cell_type": "code",
   "execution_count": 19,
   "metadata": {},
   "outputs": [],
   "source": [
    "obj1 = LengthConversion(5.5, \"yd\") + LengthConversion(1) ## convert 5.5 yards into meters and add 1"
   ]
  },
  {
   "cell_type": "code",
   "execution_count": 20,
   "metadata": {},
   "outputs": [
    {
     "name": "stdout",
     "output_type": "stream",
     "text": [
      "Length_Conversion(6.593613298337708, yd)\n"
     ]
    }
   ],
   "source": [
    "print(repr(obj1))"
   ]
  },
  {
   "cell_type": "code",
   "execution_count": 21,
   "metadata": {},
   "outputs": [
    {
     "name": "stdout",
     "output_type": "stream",
     "text": [
      "<bound method LengthConversion.convert_to_metres of Length_Conversion(6.593613298337708, yd)>\n"
     ]
    }
   ],
   "source": [
    "print(obj1)"
   ]
  },
  {
   "cell_type": "code",
   "execution_count": null,
   "metadata": {},
   "outputs": [],
   "source": []
  }
 ],
 "metadata": {
  "kernelspec": {
   "display_name": "Python 3",
   "language": "python",
   "name": "python3"
  },
  "language_info": {
   "codemirror_mode": {
    "name": "ipython",
    "version": 3
   },
   "file_extension": ".py",
   "mimetype": "text/x-python",
   "name": "python",
   "nbconvert_exporter": "python",
   "pygments_lexer": "ipython3",
   "version": "3.6.7"
  }
 },
 "nbformat": 4,
 "nbformat_minor": 2
}
