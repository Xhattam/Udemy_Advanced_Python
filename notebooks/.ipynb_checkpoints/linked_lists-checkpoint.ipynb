{
 "cells": [
  {
   "cell_type": "markdown",
   "metadata": {},
   "source": [
    "# Singly-linked list"
   ]
  },
  {
   "cell_type": "markdown",
   "metadata": {},
   "source": [
    "### Advantages\n",
    "- Dymanic data structure where insertion/deletions are simple\n",
    "- Can be used to easily implement stack/queue data structure\n",
    "\n",
    "### Disadvantages\n",
    "- Search : all the list has to be traversed to find one element\n",
    "- Memory: pointer take an aditional space"
   ]
  },
  {
   "cell_type": "code",
   "execution_count": 3,
   "metadata": {},
   "outputs": [],
   "source": [
    "class Node:\n",
    "    \n",
    "    def __init__(self, data=None):\n",
    "        self.data = data\n",
    "        self.next = None"
   ]
  },
  {
   "cell_type": "code",
   "execution_count": 215,
   "metadata": {},
   "outputs": [],
   "source": [
    "class LinkedList:\n",
    "    \n",
    "    def __init__(self):\n",
    "        self.head_value = None\n",
    "        self.tail = None\n",
    "    \n",
    "    def printing(self, stop_value=None):\n",
    "        \"\"\" Shows content of LinkedList \"\"\"\n",
    "        print_value = self.head_value\n",
    "        while print_value:\n",
    "            if stop_value:\n",
    "                if print_value.data == stop_value:\n",
    "                    print(print_value.data)\n",
    "            else:\n",
    "                print(print_value.data)\n",
    "            print_value = print_value.next\n",
    "    \n",
    "    def add_at_beginning(self, element):\n",
    "        \"\"\" Add element at beginning \"\"\"\n",
    "        element = Node(element)\n",
    "        element.next = self.head_value\n",
    "        self.head_value = element\n",
    "        \n",
    "    def add_at_end(self, element):\n",
    "        \"\"\" Add element at the end \"\"\"\n",
    "        newest = Node(element)\n",
    "        if not self.head_value:\n",
    "            self.head_value = newest\n",
    "            return\n",
    "        value = self.head_value\n",
    "        while value.next:\n",
    "            value = value.next\n",
    "        value.next = newest\n",
    "    \n",
    "    def get_node(self, name):\n",
    "        value = self.head_value\n",
    "        while True:\n",
    "            if value.data == name:\n",
    "                return value\n",
    "            value = value.next\n",
    "            if not value:\n",
    "                return name\n",
    "            \n",
    "    def add_after(self, after, node):\n",
    "        added = False\n",
    "        value = self.head_value\n",
    "        after = self.get_node(after)\n",
    "        if isinstance(after, str):\n",
    "            print(\"Value {} not found in list\".format(after))\n",
    "            return\n",
    "        newest = Node(node)\n",
    "        while not added:\n",
    "            if value.data == after.data:\n",
    "                added = True\n",
    "                newest.next = after.next\n",
    "                after.next = newest\n",
    "                return\n",
    "            value = value.next\n",
    "        return \n",
    "    \n",
    "    def get_prev(self, name):\n",
    "        value = self.head_value\n",
    "        while True:\n",
    "            if not value.next:\n",
    "                print(\"Value {} not found in list\".format(name))\n",
    "                return \n",
    "            if value.next.data == name:\n",
    "                return value\n",
    "            value = value.next\n",
    "            if not value:\n",
    "                return name\n",
    "            \n",
    "    def delete(self, element):\n",
    "        prev = self.head_value\n",
    "        # deleting first element\n",
    "        if element == prev.data:\n",
    "            if prev.next:\n",
    "                self.head_value = prev.next\n",
    "            else:\n",
    "                self.head_value = None  # empty linked list\n",
    "            return\n",
    "        else:\n",
    "            # TODO\n",
    "            pass\n",
    "                "
   ]
  },
  {
   "cell_type": "code",
   "execution_count": 216,
   "metadata": {},
   "outputs": [],
   "source": [
    "x = LinkedList()\n",
    "x.head_value = Node(\"Jessica\")\n",
    "data2 = Node(\"Tony\")\n",
    "data3 = Node(\"Marnie\")\n",
    "\n",
    "x.head_value.next = data2\n",
    "data2.next = data3"
   ]
  },
  {
   "cell_type": "markdown",
   "metadata": {},
   "source": [
    "### Traverse through singly-linked list"
   ]
  },
  {
   "cell_type": "code",
   "execution_count": 217,
   "metadata": {},
   "outputs": [
    {
     "name": "stdout",
     "output_type": "stream",
     "text": [
      "Jessica\n",
      "Tony\n",
      "Marnie\n"
     ]
    }
   ],
   "source": [
    "x.printing()"
   ]
  },
  {
   "cell_type": "code",
   "execution_count": 220,
   "metadata": {},
   "outputs": [
    {
     "data": {
      "text/plain": [
       "'Jessica'"
      ]
     },
     "execution_count": 220,
     "metadata": {},
     "output_type": "execute_result"
    }
   ],
   "source": [
    "x.get_prev(\"Tony\").data"
   ]
  },
  {
   "cell_type": "code",
   "execution_count": 198,
   "metadata": {},
   "outputs": [],
   "source": [
    "x.add_at_beginning(\"Udemy\")"
   ]
  },
  {
   "cell_type": "code",
   "execution_count": 199,
   "metadata": {},
   "outputs": [
    {
     "data": {
      "text/plain": [
       "'Udemy'"
      ]
     },
     "execution_count": 199,
     "metadata": {},
     "output_type": "execute_result"
    }
   ],
   "source": [
    "x.head_value.data"
   ]
  },
  {
   "cell_type": "code",
   "execution_count": 200,
   "metadata": {},
   "outputs": [],
   "source": [
    "x.add_at_end(\"Pioupiou\")"
   ]
  },
  {
   "cell_type": "code",
   "execution_count": 201,
   "metadata": {},
   "outputs": [
    {
     "name": "stdout",
     "output_type": "stream",
     "text": [
      "Udemy\n",
      "Jessica\n",
      "Tony\n",
      "Marnie\n",
      "Pioupiou\n"
     ]
    }
   ],
   "source": [
    "x.printing()"
   ]
  },
  {
   "cell_type": "code",
   "execution_count": 202,
   "metadata": {},
   "outputs": [
    {
     "name": "stdout",
     "output_type": "stream",
     "text": [
      "Beginning\n",
      "Udemy\n",
      "Jessica\n",
      "Tony\n",
      "Marnie\n",
      "Pioupiou\n",
      "End\n"
     ]
    }
   ],
   "source": [
    "x.add_at_beginning(\"Beginning\")\n",
    "x.add_at_end(\"End\")\n",
    "x.printing()"
   ]
  },
  {
   "cell_type": "code",
   "execution_count": 205,
   "metadata": {},
   "outputs": [
    {
     "name": "stdout",
     "output_type": "stream",
     "text": [
      "yes\n"
     ]
    }
   ],
   "source": [
    "x.add_after(\"End\", \"Blablabla\")"
   ]
  },
  {
   "cell_type": "code",
   "execution_count": 206,
   "metadata": {},
   "outputs": [
    {
     "name": "stdout",
     "output_type": "stream",
     "text": [
      "Beginning\n",
      "Udemy\n",
      "Jessica\n",
      "Tony\n",
      "Marnie\n",
      "Pioupiou\n",
      "End\n",
      "Blablabla\n"
     ]
    }
   ],
   "source": [
    "x.printing()"
   ]
  },
  {
   "cell_type": "markdown",
   "metadata": {},
   "source": [
    "# Doubly-linked list"
   ]
  },
  {
   "cell_type": "markdown",
   "metadata": {},
   "source": [
    "### Advantages\n",
    "- Traverse in both forward/backward direction\n",
    "- Insertion/deletion simpler than singly-linked lists\n",
    "\n",
    "### Disavantages\n",
    "- More memory needed, because each data element has 2 address pointers "
   ]
  },
  {
   "cell_type": "code",
   "execution_count": null,
   "metadata": {},
   "outputs": [],
   "source": []
  }
 ],
 "metadata": {
  "kernelspec": {
   "display_name": "Python 3",
   "language": "python",
   "name": "python3"
  },
  "language_info": {
   "codemirror_mode": {
    "name": "ipython",
    "version": 3
   },
   "file_extension": ".py",
   "mimetype": "text/x-python",
   "name": "python",
   "nbconvert_exporter": "python",
   "pygments_lexer": "ipython3",
   "version": "3.5.2"
  }
 },
 "nbformat": 4,
 "nbformat_minor": 2
}
