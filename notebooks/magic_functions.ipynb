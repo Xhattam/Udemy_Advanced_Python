{
 "cells": [
  {
   "cell_type": "code",
   "execution_count": 3,
   "metadata": {},
   "outputs": [],
   "source": [
    "class X:\n",
    "    \n",
    "    def __init__(self, y, z):\n",
    "        self.y = y\n",
    "        self.z = z\n",
    "        \n",
    "    def sum(self):\n",
    "        return self.y + self.z\n",
    "    "
   ]
  },
  {
   "cell_type": "code",
   "execution_count": 4,
   "metadata": {},
   "outputs": [],
   "source": [
    "obj1 = X(4, 3)"
   ]
  },
  {
   "cell_type": "code",
   "execution_count": 5,
   "metadata": {},
   "outputs": [
    {
     "data": {
      "text/plain": [
       "7"
      ]
     },
     "execution_count": 5,
     "metadata": {},
     "output_type": "execute_result"
    }
   ],
   "source": [
    "obj1.sum()"
   ]
  },
  {
   "cell_type": "markdown",
   "metadata": {},
   "source": [
    "### Type of binary operators and associated magic method\n",
    "\n",
    "- `+ ` : ```__add__(self, other)``` (addition)\n",
    "- `- ` : ```__sub__(self, other)``` (substraction)\n",
    "- `* ` : ```__mul__(self, other)``` (multiplication)\n",
    "- `/ ` : ```__div__(self, other)``` (division)\n",
    "- `//` : ```__floordiv__(self, other)``` (floor division)\n",
    "\n",
    "\n",
    "\n",
    "- `%` : ```__mod__(self, other)``` (modulo)\n",
    "- `**` : ```__pow__(self, other)``` (power)\n",
    "- `<<` : ```__lshift__(self, other)``` (left shift)\n",
    "- `>>` : ```__rshift__(self, other)``` (right shift)\n",
    "- `&` : ```__and__(self, other)``` (AND)\n",
    "\n",
    "\n",
    "- `^` : ```__xor__(self, other)``` (xor)\n",
    "- `|` : ```__or__(self, other)``` (or)"
   ]
  },
  {
   "cell_type": "markdown",
   "metadata": {},
   "source": [
    "### Addition class"
   ]
  },
  {
   "cell_type": "code",
   "execution_count": 15,
   "metadata": {},
   "outputs": [],
   "source": [
    "class Addition:\n",
    "    \n",
    "    def __init__(self, *arguments):\n",
    "        if len(arguments) == 0:\n",
    "            self.numbers = (0, 0)\n",
    "        else:\n",
    "            self.numbers = arguments\n",
    "            \n",
    "    def __add__(self, other):\n",
    "        sum = tuple(x + y for x, y in zip(self.numbers, other.numbers))\n",
    "        # if numbers is (1, 5) and others is (2, 3), then the output will be (3, 8)\n",
    "        return Addition(*sum)\n",
    "    \n",
    "    def __mul__(self, other):\n",
    "        mul = tuple(x * y for x, y in zip(self.numbers, other.numbers))\n",
    "        return Addition(*mul)"
   ]
  },
  {
   "cell_type": "code",
   "execution_count": 16,
   "metadata": {},
   "outputs": [
    {
     "name": "stdout",
     "output_type": "stream",
     "text": [
      "(6, 8)\n"
     ]
    },
    {
     "data": {
      "text/plain": [
       "(24, 75)"
      ]
     },
     "execution_count": 16,
     "metadata": {},
     "output_type": "execute_result"
    }
   ],
   "source": [
    "obj1 = Addition(2, 3)\n",
    "obj2 = Addition(4, 5)\n",
    "obj3 = obj1 + obj2  # calling magic function __add__\n",
    "print(obj3.numbers)\n",
    "\n",
    "obj4 = Addition(3, 5)\n",
    "obj5 = obj1 + obj2 + obj4\n",
    "obj5.numbers\n",
    "\n",
    "obj6 = obj1 * obj2 * obj4\n",
    "obj6.numbers"
   ]
  },
  {
   "cell_type": "code",
   "execution_count": null,
   "metadata": {},
   "outputs": [],
   "source": []
  }
 ],
 "metadata": {
  "kernelspec": {
   "display_name": "Python 3",
   "language": "python",
   "name": "python3"
  },
  "language_info": {
   "codemirror_mode": {
    "name": "ipython",
    "version": 3
   },
   "file_extension": ".py",
   "mimetype": "text/x-python",
   "name": "python",
   "nbconvert_exporter": "python",
   "pygments_lexer": "ipython3",
   "version": "3.6.7"
  }
 },
 "nbformat": 4,
 "nbformat_minor": 2
}
