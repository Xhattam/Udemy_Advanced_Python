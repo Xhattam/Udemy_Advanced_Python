{
 "cells": [
  {
   "cell_type": "code",
   "execution_count": 1,
   "metadata": {},
   "outputs": [],
   "source": [
    "class X:\n",
    "    \n",
    "    def __init__(self, y, z):\n",
    "        self.y = y\n",
    "        self.z = z\n",
    "        \n",
    "    def sum(self):\n",
    "        return self.y + self.z\n",
    "    "
   ]
  },
  {
   "cell_type": "code",
   "execution_count": 2,
   "metadata": {},
   "outputs": [],
   "source": [
    "obj1 = X(4, 3)"
   ]
  },
  {
   "cell_type": "code",
   "execution_count": 3,
   "metadata": {},
   "outputs": [
    {
     "data": {
      "text/plain": [
       "7"
      ]
     },
     "execution_count": 3,
     "metadata": {},
     "output_type": "execute_result"
    }
   ],
   "source": [
    "obj1.sum()"
   ]
  },
  {
   "cell_type": "markdown",
   "metadata": {},
   "source": [
    "### Type of binary operators and associated magic method\n",
    "\n",
    "- `+ ` : ```__add__(self, other)``` (addition)\n",
    "- `- ` : ```__sub__(self, other)``` (substraction)\n",
    "- `* ` : ```__mul__(self, other)``` (multiplication)\n",
    "- `/ ` : ```__div__(self, other)``` (division)\n",
    "- `//` : ```__floordiv__(self, other)``` (floor division)\n",
    "\n",
    "\n",
    "\n",
    "- `%` : ```__mod__(self, other)``` (modulo)\n",
    "- `**` : ```__pow__(self, other)``` (power)\n",
    "- `<<` : ```__lshift__(self, other)``` (left shift)\n",
    "- `>>` : ```__rshift__(self, other)``` (right shift)\n",
    "- `&` : ```__and__(self, other)``` (AND)\n",
    "\n",
    "\n",
    "- `^` : ```__xor__(self, other)``` (xor)\n",
    "- `|` : ```__or__(self, other)``` (or)"
   ]
  },
  {
   "cell_type": "markdown",
   "metadata": {},
   "source": [
    "### Addition class"
   ]
  },
  {
   "cell_type": "code",
   "execution_count": 4,
   "metadata": {},
   "outputs": [],
   "source": [
    "class Addition:\n",
    "    \n",
    "    def __init__(self, *arguments):\n",
    "        if len(arguments) == 0:\n",
    "            self.numbers = (0, 0)\n",
    "        else:\n",
    "            self.numbers = arguments\n",
    "            \n",
    "    def __add__(self, other):\n",
    "        sum = tuple(x + y for x, y in zip(self.numbers, other.numbers))\n",
    "        # if numbers is (1, 5) and others is (2, 3), then the output will be (3, 8)\n",
    "        return Addition(*sum)\n",
    "    \n",
    "    def __mul__(self, other):\n",
    "        mul = tuple(x * y for x, y in zip(self.numbers, other.numbers))\n",
    "        return Addition(*mul)"
   ]
  },
  {
   "cell_type": "code",
   "execution_count": 5,
   "metadata": {},
   "outputs": [
    {
     "name": "stdout",
     "output_type": "stream",
     "text": [
      "(6, 8)\n"
     ]
    },
    {
     "data": {
      "text/plain": [
       "(24, 75)"
      ]
     },
     "execution_count": 5,
     "metadata": {},
     "output_type": "execute_result"
    }
   ],
   "source": [
    "obj1 = Addition(2, 3)\n",
    "obj2 = Addition(4, 5)\n",
    "obj3 = obj1 + obj2  # calling magic function __add__\n",
    "print(obj3.numbers)\n",
    "\n",
    "obj4 = Addition(3, 5)\n",
    "obj5 = obj1 + obj2 + obj4\n",
    "obj5.numbers\n",
    "\n",
    "obj6 = obj1 * obj2 * obj4\n",
    "obj6.numbers"
   ]
  },
  {
   "cell_type": "markdown",
   "metadata": {},
   "source": [
    "#### 07/03/2018 (video 12)"
   ]
  },
  {
   "cell_type": "code",
   "execution_count": 20,
   "metadata": {},
   "outputs": [],
   "source": [
    "class X:\n",
    "    \n",
    "    # The content of each function was kept super simple for the explanation\n",
    "    # And just to show that magic functions associate an operator with an object\n",
    "    # The commented 'return' shows what I would expect for each function call\n",
    "    \n",
    "    def __init__(self, y):\n",
    "        self.y = y\n",
    "        \n",
    "    def __neg__(self):\n",
    "        # return not self.y \n",
    "        return self.y\n",
    "    \n",
    "    def __pos__(self):\n",
    "        # return abs(self.y)\n",
    "        return self.y\n",
    "    \n",
    "    def __invert__(self):\n",
    "        # return ~self.y\n",
    "        return self.y"
   ]
  },
  {
   "cell_type": "code",
   "execution_count": 19,
   "metadata": {},
   "outputs": [
    {
     "name": "stdout",
     "output_type": "stream",
     "text": [
      "<__main__.X object at 0x7fc9282a4208>\n",
      "-2\n",
      "-2\n",
      "-2\n"
     ]
    }
   ],
   "source": [
    "obj1 = X(-2)\n",
    "print(obj1)\n",
    "print(-obj1)\n",
    "print(+obj1)\n",
    "print(~obj1)"
   ]
  },
  {
   "cell_type": "markdown",
   "metadata": {},
   "source": [
    "### Type of comparison operators and associated magic method\n",
    "\n",
    "- `< ` : ```__lt__(self, other)``` (inferior to)\n",
    "- `> ` : ```__gt__(self, other)``` (superior to)\n",
    "- `== ` : ```__eq__(self, other)``` (equal to)\n",
    "- `>= ` : ```__ge__(self, other)``` (greater or equal to)\n",
    "- `<=` : ```__le__(self, other)``` (lower or equal to)\n",
    "- `!=` : ```__ne__(self, other)``` (not equal to)"
   ]
  },
  {
   "cell_type": "code",
   "execution_count": 25,
   "metadata": {},
   "outputs": [],
   "source": [
    "class Comparison:\n",
    "    \n",
    "    def __init__(self, x):\n",
    "        self.x = x\n",
    "        \n",
    "    def __lt__(self, other):\n",
    "        return self.x < other.x\n",
    "\n",
    "    def __gt__(self, other):\n",
    "        return self.x > other.x"
   ]
  },
  {
   "cell_type": "code",
   "execution_count": 27,
   "metadata": {},
   "outputs": [
    {
     "data": {
      "text/plain": [
       "True"
      ]
     },
     "execution_count": 27,
     "metadata": {},
     "output_type": "execute_result"
    }
   ],
   "source": [
    "obj1 = Comparison(2)\n",
    "obj2 = Comparison(4)\n",
    "obj1 < obj2"
   ]
  },
  {
   "cell_type": "markdown",
   "metadata": {},
   "source": [
    "### Type of extended assignments operators and associated magic method\n",
    "\n",
    "- `+= ` : ```__iadd__(self, other)``` (add)\n",
    "- `-= ` : ```__isub__(self, other)``` (sub)\n",
    "- `*= ` : ```__imul__(self, other)``` (mul)\n",
    "- `/= ` : ```__idiv__(self, other)``` (div)\n",
    "- `//=` : ```__ifloordiv__(self, other)``` (floordiv)\n",
    "- %=` : ```__imod__(self, other)``` (modulo)\n",
    "- `**=` : ```__ipow__(self, other)``` (pow)\n",
    "- `<<=` : ```__ilshift__(self, other)``` (left shift)\n",
    "- `>>=` : ```__irshift__(self, other)``` (right shift)\n",
    "- `&=` : ```__iland__(self, other)``` (AND)\n",
    "- `^=` : ```__ixor__(self, other)``` (XOR)\n",
    "- `|=` : ```__ior__(self, other)``` (OR)"
   ]
  },
  {
   "cell_type": "code",
   "execution_count": 36,
   "metadata": {},
   "outputs": [],
   "source": [
    "class EAO:\n",
    "    def __init__(self, x):\n",
    "        self.x = x\n",
    "    \n",
    "    def __str__(self):\n",
    "        return \"{0}\".format(self.x)\n",
    "    \n",
    "    def __iadd__(self, other):\n",
    "        x = self.x + other.x\n",
    "        return EAO(x)"
   ]
  },
  {
   "cell_type": "code",
   "execution_count": 37,
   "metadata": {},
   "outputs": [
    {
     "name": "stdout",
     "output_type": "stream",
     "text": [
      "5\n"
     ]
    }
   ],
   "source": [
    "obj1 = EAO(2)\n",
    "obj1 += EAO(3)\n",
    "print(obj1)"
   ]
  },
  {
   "cell_type": "code",
   "execution_count": 40,
   "metadata": {},
   "outputs": [],
   "source": [
    "class EAO_2:\n",
    "    # Any number of values can be added, apart from x, y and z\n",
    "    def __init__(self, x, y, z):\n",
    "        self.x = x\n",
    "        self.y = y\n",
    "        self.z = z\n",
    "        \n",
    "    def __str__(self):\n",
    "        return \"({}, {}, {})\".format(self.x, self.y, self.z)\n",
    "\n",
    "    def __iadd__(self, other):\n",
    "        x = self.x + other.x\n",
    "        y = self.y + other.y\n",
    "        z = self.z + other.z\n",
    "        return EAO_2(x, y, z)"
   ]
  },
  {
   "cell_type": "code",
   "execution_count": 42,
   "metadata": {},
   "outputs": [
    {
     "name": "stdout",
     "output_type": "stream",
     "text": [
      "(2, 4, 6)\n"
     ]
    }
   ],
   "source": [
    "obj2 = EAO_2(1, 2, 3)\n",
    "obj2 += EAO_2(1, 2, 3)\n",
    "print(obj2)"
   ]
  },
  {
   "cell_type": "markdown",
   "metadata": {},
   "source": [
    "### Note\n",
    "\n",
    "These are bitwise operators: `<<`, `>>`, `&`, `|`, `~`"
   ]
  },
  {
   "cell_type": "code",
   "execution_count": null,
   "metadata": {},
   "outputs": [],
   "source": []
  }
 ],
 "metadata": {
  "kernelspec": {
   "display_name": "Python 3",
   "language": "python",
   "name": "python3"
  },
  "language_info": {
   "codemirror_mode": {
    "name": "ipython",
    "version": 3
   },
   "file_extension": ".py",
   "mimetype": "text/x-python",
   "name": "python",
   "nbconvert_exporter": "python",
   "pygments_lexer": "ipython3",
   "version": "3.6.7"
  }
 },
 "nbformat": 4,
 "nbformat_minor": 2
}
